{
 "cells": [
  {
   "cell_type": "code",
   "execution_count": 1,
   "id": "actual-version",
   "metadata": {
    "_cell_guid": "b1076dfc-b9ad-4769-8c92-a6c4dae69d19",
    "_uuid": "8f2839f25d086af736a60e9eeb907d3b93b6e0e5",
    "execution": {
     "iopub.execute_input": "2021-04-22T14:09:29.227366Z",
     "iopub.status.busy": "2021-04-22T14:09:29.226163Z",
     "iopub.status.idle": "2021-04-22T14:09:29.246931Z",
     "shell.execute_reply": "2021-04-22T14:09:29.246252Z"
    },
    "papermill": {
     "duration": 0.035714,
     "end_time": "2021-04-22T14:09:29.247105",
     "exception": false,
     "start_time": "2021-04-22T14:09:29.211391",
     "status": "completed"
    },
    "tags": []
   },
   "outputs": [
    {
     "name": "stdout",
     "output_type": "stream",
     "text": [
      "/kaggle/input/hackerearth-employee-burnout-challenge/sample_submission.csv\n",
      "/kaggle/input/hackerearth-employee-burnout-challenge/train.csv\n",
      "/kaggle/input/hackerearth-employee-burnout-challenge/test.csv\n"
     ]
    }
   ],
   "source": [
    "# This Python 3 environment comes with many helpful analytics libraries installed\n",
    "# It is defined by the kaggle/python Docker image: https://github.com/kaggle/docker-python\n",
    "# For example, here's several helpful packages to load\n",
    "\n",
    "import numpy as np # linear algebra\n",
    "import pandas as pd # data processing, CSV file I/O (e.g. pd.read_csv)\n",
    "\n",
    "# Input data files are available in the read-only \"../input/\" directory\n",
    "# For example, running this (by clicking run or pressing Shift+Enter) will list all files under the input directory\n",
    "\n",
    "import os\n",
    "for dirname, _, filenames in os.walk('/kaggle/input'):\n",
    "    for filename in filenames:\n",
    "        print(os.path.join(dirname, filename))\n",
    "\n",
    "# You can write up to 20GB to the current directory (/kaggle/working/) that gets preserved as output when you create a version using \"Save & Run All\" \n",
    "# You can also write temporary files to /kaggle/temp/, but they won't be saved outside of the current session"
   ]
  },
  {
   "cell_type": "code",
   "execution_count": 2,
   "id": "employed-principal",
   "metadata": {
    "execution": {
     "iopub.execute_input": "2021-04-22T14:09:29.274902Z",
     "iopub.status.busy": "2021-04-22T14:09:29.274251Z",
     "iopub.status.idle": "2021-04-22T14:09:29.345668Z",
     "shell.execute_reply": "2021-04-22T14:09:29.344897Z"
    },
    "papermill": {
     "duration": 0.087053,
     "end_time": "2021-04-22T14:09:29.345814",
     "exception": false,
     "start_time": "2021-04-22T14:09:29.258761",
     "status": "completed"
    },
    "tags": []
   },
   "outputs": [],
   "source": [
    "data = pd.read_csv('../input/hackerearth-employee-burnout-challenge/train.csv')"
   ]
  },
  {
   "cell_type": "code",
   "execution_count": 3,
   "id": "annual-buying",
   "metadata": {
    "execution": {
     "iopub.execute_input": "2021-04-22T14:09:29.380248Z",
     "iopub.status.busy": "2021-04-22T14:09:29.379442Z",
     "iopub.status.idle": "2021-04-22T14:09:29.405376Z",
     "shell.execute_reply": "2021-04-22T14:09:29.404744Z"
    },
    "papermill": {
     "duration": 0.048003,
     "end_time": "2021-04-22T14:09:29.405515",
     "exception": false,
     "start_time": "2021-04-22T14:09:29.357512",
     "status": "completed"
    },
    "tags": []
   },
   "outputs": [
    {
     "data": {
      "text/html": [
       "<div>\n",
       "<style scoped>\n",
       "    .dataframe tbody tr th:only-of-type {\n",
       "        vertical-align: middle;\n",
       "    }\n",
       "\n",
       "    .dataframe tbody tr th {\n",
       "        vertical-align: top;\n",
       "    }\n",
       "\n",
       "    .dataframe thead th {\n",
       "        text-align: right;\n",
       "    }\n",
       "</style>\n",
       "<table border=\"1\" class=\"dataframe\">\n",
       "  <thead>\n",
       "    <tr style=\"text-align: right;\">\n",
       "      <th></th>\n",
       "      <th>Employee ID</th>\n",
       "      <th>Date of Joining</th>\n",
       "      <th>Gender</th>\n",
       "      <th>Company Type</th>\n",
       "      <th>WFH Setup Available</th>\n",
       "      <th>Designation</th>\n",
       "      <th>Resource Allocation</th>\n",
       "      <th>Mental Fatigue Score</th>\n",
       "      <th>Burn Rate</th>\n",
       "    </tr>\n",
       "  </thead>\n",
       "  <tbody>\n",
       "    <tr>\n",
       "      <th>0</th>\n",
       "      <td>fffe32003000360033003200</td>\n",
       "      <td>2008-09-30</td>\n",
       "      <td>Female</td>\n",
       "      <td>Service</td>\n",
       "      <td>No</td>\n",
       "      <td>2.0</td>\n",
       "      <td>3.0</td>\n",
       "      <td>3.8</td>\n",
       "      <td>0.16</td>\n",
       "    </tr>\n",
       "    <tr>\n",
       "      <th>1</th>\n",
       "      <td>fffe3700360033003500</td>\n",
       "      <td>2008-11-30</td>\n",
       "      <td>Male</td>\n",
       "      <td>Service</td>\n",
       "      <td>Yes</td>\n",
       "      <td>1.0</td>\n",
       "      <td>2.0</td>\n",
       "      <td>5.0</td>\n",
       "      <td>0.36</td>\n",
       "    </tr>\n",
       "    <tr>\n",
       "      <th>2</th>\n",
       "      <td>fffe31003300320037003900</td>\n",
       "      <td>2008-03-10</td>\n",
       "      <td>Female</td>\n",
       "      <td>Product</td>\n",
       "      <td>Yes</td>\n",
       "      <td>2.0</td>\n",
       "      <td>NaN</td>\n",
       "      <td>5.8</td>\n",
       "      <td>0.49</td>\n",
       "    </tr>\n",
       "    <tr>\n",
       "      <th>3</th>\n",
       "      <td>fffe32003400380032003900</td>\n",
       "      <td>2008-11-03</td>\n",
       "      <td>Male</td>\n",
       "      <td>Service</td>\n",
       "      <td>Yes</td>\n",
       "      <td>1.0</td>\n",
       "      <td>1.0</td>\n",
       "      <td>2.6</td>\n",
       "      <td>0.20</td>\n",
       "    </tr>\n",
       "    <tr>\n",
       "      <th>4</th>\n",
       "      <td>fffe31003900340031003600</td>\n",
       "      <td>2008-07-24</td>\n",
       "      <td>Female</td>\n",
       "      <td>Service</td>\n",
       "      <td>No</td>\n",
       "      <td>3.0</td>\n",
       "      <td>7.0</td>\n",
       "      <td>6.9</td>\n",
       "      <td>0.52</td>\n",
       "    </tr>\n",
       "  </tbody>\n",
       "</table>\n",
       "</div>"
      ],
      "text/plain": [
       "                Employee ID Date of Joining  Gender Company Type  \\\n",
       "0  fffe32003000360033003200      2008-09-30  Female      Service   \n",
       "1      fffe3700360033003500      2008-11-30    Male      Service   \n",
       "2  fffe31003300320037003900      2008-03-10  Female      Product   \n",
       "3  fffe32003400380032003900      2008-11-03    Male      Service   \n",
       "4  fffe31003900340031003600      2008-07-24  Female      Service   \n",
       "\n",
       "  WFH Setup Available  Designation  Resource Allocation  Mental Fatigue Score  \\\n",
       "0                  No          2.0                  3.0                   3.8   \n",
       "1                 Yes          1.0                  2.0                   5.0   \n",
       "2                 Yes          2.0                  NaN                   5.8   \n",
       "3                 Yes          1.0                  1.0                   2.6   \n",
       "4                  No          3.0                  7.0                   6.9   \n",
       "\n",
       "   Burn Rate  \n",
       "0       0.16  \n",
       "1       0.36  \n",
       "2       0.49  \n",
       "3       0.20  \n",
       "4       0.52  "
      ]
     },
     "execution_count": 3,
     "metadata": {},
     "output_type": "execute_result"
    }
   ],
   "source": [
    "data.head()"
   ]
  },
  {
   "cell_type": "code",
   "execution_count": 4,
   "id": "deluxe-bronze",
   "metadata": {
    "execution": {
     "iopub.execute_input": "2021-04-22T14:09:29.462831Z",
     "iopub.status.busy": "2021-04-22T14:09:29.446550Z",
     "iopub.status.idle": "2021-04-22T14:09:29.467425Z",
     "shell.execute_reply": "2021-04-22T14:09:29.466612Z"
    },
    "papermill": {
     "duration": 0.050313,
     "end_time": "2021-04-22T14:09:29.467619",
     "exception": false,
     "start_time": "2021-04-22T14:09:29.417306",
     "status": "completed"
    },
    "tags": []
   },
   "outputs": [
    {
     "name": "stdout",
     "output_type": "stream",
     "text": [
      "<class 'pandas.core.frame.DataFrame'>\n",
      "RangeIndex: 22750 entries, 0 to 22749\n",
      "Data columns (total 9 columns):\n",
      " #   Column                Non-Null Count  Dtype  \n",
      "---  ------                --------------  -----  \n",
      " 0   Employee ID           22750 non-null  object \n",
      " 1   Date of Joining       22750 non-null  object \n",
      " 2   Gender                22750 non-null  object \n",
      " 3   Company Type          22750 non-null  object \n",
      " 4   WFH Setup Available   22750 non-null  object \n",
      " 5   Designation           22750 non-null  float64\n",
      " 6   Resource Allocation   21369 non-null  float64\n",
      " 7   Mental Fatigue Score  20633 non-null  float64\n",
      " 8   Burn Rate             21626 non-null  float64\n",
      "dtypes: float64(4), object(5)\n",
      "memory usage: 1.6+ MB\n"
     ]
    }
   ],
   "source": [
    "data.info()                             "
   ]
  },
  {
   "cell_type": "code",
   "execution_count": 5,
   "id": "permanent-macedonia",
   "metadata": {
    "execution": {
     "iopub.execute_input": "2021-04-22T14:09:29.515079Z",
     "iopub.status.busy": "2021-04-22T14:09:29.513626Z",
     "iopub.status.idle": "2021-04-22T14:09:29.521413Z",
     "shell.execute_reply": "2021-04-22T14:09:29.520836Z"
    },
    "papermill": {
     "duration": 0.040943,
     "end_time": "2021-04-22T14:09:29.521578",
     "exception": false,
     "start_time": "2021-04-22T14:09:29.480635",
     "status": "completed"
    },
    "tags": []
   },
   "outputs": [
    {
     "name": "stdout",
     "output_type": "stream",
     "text": [
      "Column Employee ID with missing value = 0.0%\n",
      "Column Date of Joining with missing value = 0.0%\n",
      "Column Gender with missing value = 0.0%\n",
      "Column Company Type with missing value = 0.0%\n",
      "Column WFH Setup Available with missing value = 0.0%\n",
      "Column Designation with missing value = 0.0%\n",
      "Column Resource Allocation with missing value = 6.07032967032967%\n",
      "Column Mental Fatigue Score with missing value = 9.305494505494506%\n",
      "Column Burn Rate with missing value = 4.940659340659341%\n"
     ]
    }
   ],
   "source": [
    "rows = data.shape[0]\n",
    "for col in data.columns:\n",
    "    print('Column {} with missing value = {}%'.format(col,100*data[col].isna().sum()/rows))"
   ]
  },
  {
   "cell_type": "code",
   "execution_count": 6,
   "id": "violent-chosen",
   "metadata": {
    "execution": {
     "iopub.execute_input": "2021-04-22T14:09:29.554055Z",
     "iopub.status.busy": "2021-04-22T14:09:29.553319Z",
     "iopub.status.idle": "2021-04-22T14:09:29.579846Z",
     "shell.execute_reply": "2021-04-22T14:09:29.579278Z"
    },
    "papermill": {
     "duration": 0.045661,
     "end_time": "2021-04-22T14:09:29.580070",
     "exception": false,
     "start_time": "2021-04-22T14:09:29.534409",
     "status": "completed"
    },
    "tags": []
   },
   "outputs": [],
   "source": [
    "data.dropna(subset=['Burn Rate','Mental Fatigue Score'],axis=0,inplace=True)"
   ]
  },
  {
   "cell_type": "code",
   "execution_count": 7,
   "id": "known-panic",
   "metadata": {
    "execution": {
     "iopub.execute_input": "2021-04-22T14:09:29.614008Z",
     "iopub.status.busy": "2021-04-22T14:09:29.611137Z",
     "iopub.status.idle": "2021-04-22T14:09:29.626028Z",
     "shell.execute_reply": "2021-04-22T14:09:29.625241Z"
    },
    "papermill": {
     "duration": 0.033032,
     "end_time": "2021-04-22T14:09:29.626185",
     "exception": false,
     "start_time": "2021-04-22T14:09:29.593153",
     "status": "completed"
    },
    "tags": []
   },
   "outputs": [
    {
     "name": "stdout",
     "output_type": "stream",
     "text": [
      "Unique values in Gender = ['Female' 'Male']\n",
      "Unique values in Company Type = ['Service' 'Product']\n",
      "Unique values in WFH Setup Available = ['No' 'Yes']\n",
      "Unique values in Designation = [2. 1. 3. 0. 4. 5.]\n",
      "Unique values in Resource Allocation = [ 3.  2. nan  1.  7.  4.  6.  5.  8. 10.  9.]\n"
     ]
    }
   ],
   "source": [
    "for col in data.iloc[:,2:-2].columns:\n",
    "    print('Unique values in {} = {}'.format(col,data[col].unique()))"
   ]
  },
  {
   "cell_type": "code",
   "execution_count": 8,
   "id": "underlying-helena",
   "metadata": {
    "execution": {
     "iopub.execute_input": "2021-04-22T14:09:29.658704Z",
     "iopub.status.busy": "2021-04-22T14:09:29.658025Z",
     "iopub.status.idle": "2021-04-22T14:09:31.007740Z",
     "shell.execute_reply": "2021-04-22T14:09:31.007065Z"
    },
    "papermill": {
     "duration": 1.368333,
     "end_time": "2021-04-22T14:09:31.007898",
     "exception": false,
     "start_time": "2021-04-22T14:09:29.639565",
     "status": "completed"
    },
    "tags": []
   },
   "outputs": [
    {
     "data": {
      "text/html": [
       "<div>\n",
       "<style scoped>\n",
       "    .dataframe tbody tr th:only-of-type {\n",
       "        vertical-align: middle;\n",
       "    }\n",
       "\n",
       "    .dataframe tbody tr th {\n",
       "        vertical-align: top;\n",
       "    }\n",
       "\n",
       "    .dataframe thead th {\n",
       "        text-align: right;\n",
       "    }\n",
       "</style>\n",
       "<table border=\"1\" class=\"dataframe\">\n",
       "  <thead>\n",
       "    <tr style=\"text-align: right;\">\n",
       "      <th></th>\n",
       "      <th>0</th>\n",
       "      <th>1</th>\n",
       "      <th>2</th>\n",
       "      <th>3</th>\n",
       "      <th>4</th>\n",
       "      <th>5</th>\n",
       "    </tr>\n",
       "  </thead>\n",
       "  <tbody>\n",
       "    <tr>\n",
       "      <th>0</th>\n",
       "      <td>2008-09-30</td>\n",
       "      <td>Female</td>\n",
       "      <td>Service</td>\n",
       "      <td>No</td>\n",
       "      <td>2.0</td>\n",
       "      <td>3.0</td>\n",
       "    </tr>\n",
       "    <tr>\n",
       "      <th>1</th>\n",
       "      <td>2008-11-30</td>\n",
       "      <td>Male</td>\n",
       "      <td>Service</td>\n",
       "      <td>Yes</td>\n",
       "      <td>1.0</td>\n",
       "      <td>2.0</td>\n",
       "    </tr>\n",
       "    <tr>\n",
       "      <th>2</th>\n",
       "      <td>2008-03-10</td>\n",
       "      <td>Female</td>\n",
       "      <td>Product</td>\n",
       "      <td>Yes</td>\n",
       "      <td>2.0</td>\n",
       "      <td>4.0</td>\n",
       "    </tr>\n",
       "    <tr>\n",
       "      <th>3</th>\n",
       "      <td>2008-11-03</td>\n",
       "      <td>Male</td>\n",
       "      <td>Service</td>\n",
       "      <td>Yes</td>\n",
       "      <td>1.0</td>\n",
       "      <td>1.0</td>\n",
       "    </tr>\n",
       "    <tr>\n",
       "      <th>4</th>\n",
       "      <td>2008-07-24</td>\n",
       "      <td>Female</td>\n",
       "      <td>Service</td>\n",
       "      <td>No</td>\n",
       "      <td>3.0</td>\n",
       "      <td>7.0</td>\n",
       "    </tr>\n",
       "    <tr>\n",
       "      <th>...</th>\n",
       "      <td>...</td>\n",
       "      <td>...</td>\n",
       "      <td>...</td>\n",
       "      <td>...</td>\n",
       "      <td>...</td>\n",
       "      <td>...</td>\n",
       "    </tr>\n",
       "    <tr>\n",
       "      <th>19676</th>\n",
       "      <td>2008-12-15</td>\n",
       "      <td>Female</td>\n",
       "      <td>Product</td>\n",
       "      <td>Yes</td>\n",
       "      <td>1.0</td>\n",
       "      <td>3.0</td>\n",
       "    </tr>\n",
       "    <tr>\n",
       "      <th>19677</th>\n",
       "      <td>2008-05-27</td>\n",
       "      <td>Male</td>\n",
       "      <td>Product</td>\n",
       "      <td>No</td>\n",
       "      <td>3.0</td>\n",
       "      <td>7.0</td>\n",
       "    </tr>\n",
       "    <tr>\n",
       "      <th>19678</th>\n",
       "      <td>2008-01-19</td>\n",
       "      <td>Female</td>\n",
       "      <td>Product</td>\n",
       "      <td>Yes</td>\n",
       "      <td>3.0</td>\n",
       "      <td>6.0</td>\n",
       "    </tr>\n",
       "    <tr>\n",
       "      <th>19679</th>\n",
       "      <td>2008-01-10</td>\n",
       "      <td>Female</td>\n",
       "      <td>Service</td>\n",
       "      <td>No</td>\n",
       "      <td>2.0</td>\n",
       "      <td>5.0</td>\n",
       "    </tr>\n",
       "    <tr>\n",
       "      <th>19680</th>\n",
       "      <td>2008-01-06</td>\n",
       "      <td>Male</td>\n",
       "      <td>Product</td>\n",
       "      <td>No</td>\n",
       "      <td>3.0</td>\n",
       "      <td>6.0</td>\n",
       "    </tr>\n",
       "  </tbody>\n",
       "</table>\n",
       "<p>19681 rows × 6 columns</p>\n",
       "</div>"
      ],
      "text/plain": [
       "                0       1        2    3    4    5\n",
       "0      2008-09-30  Female  Service   No  2.0  3.0\n",
       "1      2008-11-30    Male  Service  Yes  1.0  2.0\n",
       "2      2008-03-10  Female  Product  Yes  2.0  4.0\n",
       "3      2008-11-03    Male  Service  Yes  1.0  1.0\n",
       "4      2008-07-24  Female  Service   No  3.0  7.0\n",
       "...           ...     ...      ...  ...  ...  ...\n",
       "19676  2008-12-15  Female  Product  Yes  1.0  3.0\n",
       "19677  2008-05-27    Male  Product   No  3.0  7.0\n",
       "19678  2008-01-19  Female  Product  Yes  3.0  6.0\n",
       "19679  2008-01-10  Female  Service   No  2.0  5.0\n",
       "19680  2008-01-06    Male  Product   No  3.0  6.0\n",
       "\n",
       "[19681 rows x 6 columns]"
      ]
     },
     "execution_count": 8,
     "metadata": {},
     "output_type": "execute_result"
    }
   ],
   "source": [
    "from sklearn.impute import SimpleImputer\n",
    "imputer = SimpleImputer(strategy='most_frequent')\n",
    "X = data.iloc[:,1:-2]\n",
    "target = data.iloc[:,-2:]\n",
    "X_new = pd.DataFrame(imputer.fit_transform(X))\n",
    "X_new"
   ]
  },
  {
   "cell_type": "code",
   "execution_count": 9,
   "id": "sitting-offense",
   "metadata": {
    "execution": {
     "iopub.execute_input": "2021-04-22T14:09:31.039849Z",
     "iopub.status.busy": "2021-04-22T14:09:31.039246Z",
     "iopub.status.idle": "2021-04-22T14:09:34.239309Z",
     "shell.execute_reply": "2021-04-22T14:09:34.239798Z"
    },
    "papermill": {
     "duration": 3.217285,
     "end_time": "2021-04-22T14:09:34.240011",
     "exception": false,
     "start_time": "2021-04-22T14:09:31.022726",
     "status": "completed"
    },
    "tags": []
   },
   "outputs": [],
   "source": [
    "X_new[0] =pd.to_datetime(X_new[0])\n",
    "X_new[0] = X_new[0].apply(lambda x : X_new[0].max()-x)\n",
    "X_new[0] = X_new[0].astype('int')/86400000000000"
   ]
  },
  {
   "cell_type": "code",
   "execution_count": 10,
   "id": "delayed-technique",
   "metadata": {
    "execution": {
     "iopub.execute_input": "2021-04-22T14:09:34.280858Z",
     "iopub.status.busy": "2021-04-22T14:09:34.274981Z",
     "iopub.status.idle": "2021-04-22T14:09:34.303421Z",
     "shell.execute_reply": "2021-04-22T14:09:34.303969Z"
    },
    "papermill": {
     "duration": 0.049577,
     "end_time": "2021-04-22T14:09:34.304165",
     "exception": false,
     "start_time": "2021-04-22T14:09:34.254588",
     "status": "completed"
    },
    "tags": []
   },
   "outputs": [],
   "source": [
    "preprocessed_data = pd.get_dummies(X_new)"
   ]
  },
  {
   "cell_type": "code",
   "execution_count": 11,
   "id": "outstanding-landscape",
   "metadata": {
    "execution": {
     "iopub.execute_input": "2021-04-22T14:09:34.336014Z",
     "iopub.status.busy": "2021-04-22T14:09:34.335344Z",
     "iopub.status.idle": "2021-04-22T14:09:35.472026Z",
     "shell.execute_reply": "2021-04-22T14:09:35.471304Z"
    },
    "papermill": {
     "duration": 1.153513,
     "end_time": "2021-04-22T14:09:35.472169",
     "exception": false,
     "start_time": "2021-04-22T14:09:34.318656",
     "status": "completed"
    },
    "tags": []
   },
   "outputs": [
    {
     "data": {
      "text/html": [
       "<style type='text/css'>\n",
       ".datatable table.frame { margin-bottom: 0; }\n",
       ".datatable table.frame thead { border-bottom: none; }\n",
       ".datatable table.frame tr.coltypes td {  color: #FFFFFF;  line-height: 6px;  padding: 0 0.5em;}\n",
       ".datatable .bool    { background: #DDDD99; }\n",
       ".datatable .object  { background: #565656; }\n",
       ".datatable .int     { background: #5D9E5D; }\n",
       ".datatable .float   { background: #4040CC; }\n",
       ".datatable .str     { background: #CC4040; }\n",
       ".datatable .row_index {  background: var(--jp-border-color3);  border-right: 1px solid var(--jp-border-color0);  color: var(--jp-ui-font-color3);  font-size: 9px;}\n",
       ".datatable .frame tr.coltypes .row_index {  background: var(--jp-border-color0);}\n",
       ".datatable th:nth-child(2) { padding-left: 12px; }\n",
       ".datatable .hellipsis {  color: var(--jp-cell-editor-border-color);}\n",
       ".datatable .vellipsis {  background: var(--jp-layout-color0);  color: var(--jp-cell-editor-border-color);}\n",
       ".datatable .na {  color: var(--jp-cell-editor-border-color);  font-size: 80%;}\n",
       ".datatable .footer { font-size: 9px; }\n",
       ".datatable .frame_dimensions {  background: var(--jp-border-color3);  border-top: 1px solid var(--jp-border-color0);  color: var(--jp-ui-font-color3);  display: inline-block;  opacity: 0.6;  padding: 1px 10px 1px 5px;}\n",
       "</style>\n"
      ],
      "text/plain": [
       "<IPython.core.display.HTML object>"
      ]
     },
     "metadata": {},
     "output_type": "display_data"
    }
   ],
   "source": [
    "from lightgbm import LGBMRegressor\n",
    "regressor = LGBMRegressor()\n",
    "param_grid = {\n",
    "    'n_estimators': [30, 128],\n",
    "    'colsample_bytree': [0.3,0.7],\n",
    "    'max_depth': [15,\n",
    "                  25],\n",
    "    'num_leaves': [50, 100],\n",
    "    'reg_alpha': [1.1, 1.3],\n",
    "    'reg_lambda': [1.1, 1.3],\n",
    "    'min_split_gain': [ 0.4],\n",
    "    'subsample': [0.7, 0.9],\n",
    "    'subsample_freq': [20]\n",
    "}\n"
   ]
  },
  {
   "cell_type": "code",
   "execution_count": 12,
   "id": "invisible-standard",
   "metadata": {
    "execution": {
     "iopub.execute_input": "2021-04-22T14:09:35.509185Z",
     "iopub.status.busy": "2021-04-22T14:09:35.508421Z",
     "iopub.status.idle": "2021-04-22T14:10:05.781705Z",
     "shell.execute_reply": "2021-04-22T14:10:05.782239Z"
    },
    "papermill": {
     "duration": 30.295263,
     "end_time": "2021-04-22T14:10:05.782429",
     "exception": false,
     "start_time": "2021-04-22T14:09:35.487166",
     "status": "completed"
    },
    "tags": []
   },
   "outputs": [
    {
     "name": "stdout",
     "output_type": "stream",
     "text": [
      "Fitting 5 folds for each of 128 candidates, totalling 640 fits\n"
     ]
    }
   ],
   "source": [
    "from sklearn.model_selection import GridSearchCV\n",
    "gs = GridSearchCV(\n",
    "    estimator=regressor,\n",
    "    param_grid=param_grid, \n",
    "    cv=5, \n",
    "    n_jobs=-1, \n",
    "    scoring='neg_mean_absolute_error',\n",
    "    verbose=True\n",
    ")\n",
    "fitted_model = gs.fit(preprocessed_data, data.iloc[:,-1])"
   ]
  },
  {
   "cell_type": "code",
   "execution_count": 13,
   "id": "coral-value",
   "metadata": {
    "execution": {
     "iopub.execute_input": "2021-04-22T14:10:05.822465Z",
     "iopub.status.busy": "2021-04-22T14:10:05.821602Z",
     "iopub.status.idle": "2021-04-22T14:10:05.825145Z",
     "shell.execute_reply": "2021-04-22T14:10:05.825640Z"
    },
    "papermill": {
     "duration": 0.025506,
     "end_time": "2021-04-22T14:10:05.825811",
     "exception": false,
     "start_time": "2021-04-22T14:10:05.800305",
     "status": "completed"
    },
    "tags": []
   },
   "outputs": [
    {
     "data": {
      "text/plain": [
       "({'colsample_bytree': 0.7,\n",
       "  'max_depth': 15,\n",
       "  'min_split_gain': 0.4,\n",
       "  'n_estimators': 128,\n",
       "  'num_leaves': 50,\n",
       "  'reg_alpha': 1.1,\n",
       "  'reg_lambda': 1.3,\n",
       "  'subsample': 0.9,\n",
       "  'subsample_freq': 20},\n",
       " -0.08423903143533597)"
      ]
     },
     "execution_count": 13,
     "metadata": {},
     "output_type": "execute_result"
    }
   ],
   "source": [
    "fitted_model.best_params_,fitted_model.best_score_"
   ]
  },
  {
   "cell_type": "code",
   "execution_count": null,
   "id": "alleged-level",
   "metadata": {
    "papermill": {
     "duration": 0.015493,
     "end_time": "2021-04-22T14:10:05.857148",
     "exception": false,
     "start_time": "2021-04-22T14:10:05.841655",
     "status": "completed"
    },
    "tags": []
   },
   "outputs": [],
   "source": []
  }
 ],
 "metadata": {
  "kernelspec": {
   "display_name": "Python 3",
   "language": "python",
   "name": "python3"
  },
  "language_info": {
   "codemirror_mode": {
    "name": "ipython",
    "version": 3
   },
   "file_extension": ".py",
   "mimetype": "text/x-python",
   "name": "python",
   "nbconvert_exporter": "python",
   "pygments_lexer": "ipython3",
   "version": "3.7.10"
  },
  "papermill": {
   "default_parameters": {},
   "duration": 46.907229,
   "end_time": "2021-04-22T14:10:07.403996",
   "environment_variables": {},
   "exception": null,
   "input_path": "__notebook__.ipynb",
   "output_path": "__notebook__.ipynb",
   "parameters": {},
   "start_time": "2021-04-22T14:09:20.496767",
   "version": "2.3.3"
  }
 },
 "nbformat": 4,
 "nbformat_minor": 5
}
